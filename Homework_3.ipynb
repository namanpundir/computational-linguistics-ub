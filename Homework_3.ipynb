{
  "nbformat": 4,
  "nbformat_minor": 0,
  "metadata": {
    "colab": {
      "name": "HW3 (2021-09-22 draft).ipynb",
      "provenance": [],
      "collapsed_sections": []
    },
    "kernelspec": {
      "name": "python3",
      "display_name": "Python 3"
    },
    "language_info": {
      "name": "python"
    }
  },
  "cells": [
    {
      "cell_type": "markdown",
      "metadata": {
        "id": "4aIVEwp2fqWd"
      },
      "source": [
        "# Question 1: Package imports (1 point)\n",
        "\n",
        "Please load in all software imports (e.g., `from google.colab import drive`) here."
      ]
    },
    {
      "cell_type": "code",
      "metadata": {
        "id": "RxUTd1lfsD6a"
      },
      "source": [
        "# download spacy language model and restart runtime if necessary"
      ],
      "execution_count": null,
      "outputs": []
    },
    {
      "cell_type": "code",
      "metadata": {
        "colab": {
          "base_uri": "https://localhost:8080/"
        },
        "id": "AckJDqfGymfX",
        "outputId": "2eb17df7-9cb3-4308-cc5b-55d21e302d5a"
      },
      "source": [
        "from google.colab import drive, files\n",
        "import json\n",
        "from pprint import pprint\n",
        "\n",
        "# load in spacy\n"
      ],
      "execution_count": null,
      "outputs": [
        {
          "output_type": "stream",
          "name": "stdout",
          "text": [
            "Mounted at /content/drive/\n"
          ]
        }
      ]
    },
    {
      "cell_type": "code",
      "metadata": {
        "id": "4d59rNqeLEgd"
      },
      "source": [
        "# change this to work with your setup\n",
        "drive.mount(\"/content/drive/\", force_remount=True)\n",
        "\n",
        "with open(\"/content/drive/MyDrive/Fall 2021 Computational Linguistics Notebooks/HW3/morphemes.json\") as data:\n",
        "  file_contents = [x for x in data.readlines()]"
      ],
      "execution_count": null,
      "outputs": []
    },
    {
      "cell_type": "markdown",
      "metadata": {
        "id": "Qlb7Y_zjKaY7"
      },
      "source": [
        "# Question 2: Converting the morphemes.json file to a dictionary (5 points)"
      ]
    },
    {
      "cell_type": "markdown",
      "metadata": {
        "id": "NmnAesqCttwO"
      },
      "source": [
        "Now, read in each line, convert into a dictionary (using the `.loads` function from the `json` package), and append to a `list` called `morphemes` whose elements are each `dict` files.\n",
        "\n",
        "You may load in the data any way you like that results in turning each line of `morphemes.json` into a dictionary. To do this, you can use the `json.loads` function.\n",
        "\n",
        "```python\n",
        "one_line_dict = json.loads('{\"word\": '', \"prefixes\": [], \"suffixes\": [], \"roots\": []}')\n",
        "word_of_one_line = one_line_dict['word']\n",
        "new_one_line_dict = {word_of_one_line: one_line_dict}\n",
        "```"
      ]
    },
    {
      "cell_type": "markdown",
      "metadata": {
        "id": "OFTuROH6x6mR"
      },
      "source": [
        "Combine each of the dictionaries from each line into a single dictionary (keys are `word`, values are the whole dictionary):\n",
        "\n",
        "```python\n",
        "my_dict = {\n",
        "  'word1': {'word': 'word1',\n",
        "            'roots': ['word'],\n",
        "            'prefixes'=[],\n",
        "            'suffixes': ['1']}\n",
        "}\n",
        "```"
      ]
    },
    {
      "cell_type": "code",
      "metadata": {
        "id": "_a_W8xfWstP0"
      },
      "source": [
        "# now convert to the morphemes data structure described above"
      ],
      "execution_count": null,
      "outputs": []
    },
    {
      "cell_type": "markdown",
      "metadata": {
        "id": "5kkhqASuoVVj"
      },
      "source": [
        "# Question 3: Identify roots, suffixes, and prefixes for one word (2 points)\n",
        "\n",
        "Identify the root, suffixes, and prefixes of the word `\"transformations\"`"
      ]
    },
    {
      "cell_type": "code",
      "metadata": {
        "id": "TYjbuVMfod_Y"
      },
      "source": [
        ""
      ],
      "execution_count": null,
      "outputs": []
    },
    {
      "cell_type": "markdown",
      "metadata": {
        "id": "KHG5dOdNoLDN"
      },
      "source": [
        "# Question 4: Make dictionaries mapping between morphemes and words (5 points)\n",
        "\n",
        "* Roots --> Set of all words containing that root\n",
        "* Prefixes --> Set of all words containing that prefix\n",
        "* Suffixes --> Set of all words containing that suffix\n",
        "\n",
        "**Note**: Be sure to loop over all words, and within each morpheme category, be sure to loop over all morphemes.\n",
        "\n",
        "Tip: If you use a `defaultdict`, this might make some of the work easier. Here is a `defaultdict` example based on the n-gram frequency calculations from previous lectures and the previous homework. It allows us to set default `value`s for a `key`. For this assignment, the default value is a `set`. Note, you do not _have_ to use this data structure.\n",
        "\n",
        "```python\n",
        "from collections import defaultdict\n",
        "\n",
        "word_frequency_dict = defaultdict(int)\n",
        "list_of_words = ['this', 'is', 'a', 'sentence']\n",
        "\n",
        "for word in list_of_words:\n",
        "  word_frequency_dict[word] += 1\n",
        "```"
      ]
    },
    {
      "cell_type": "code",
      "metadata": {
        "id": "HDNitRK0qxOf"
      },
      "source": [
        ""
      ],
      "execution_count": null,
      "outputs": []
    },
    {
      "cell_type": "markdown",
      "metadata": {
        "id": "FDCxpf87yHWi"
      },
      "source": [
        "# Question 5: Cosine similarity with spaCy (8 points)\n",
        "\n",
        "Compute the mean cosine similarity using `numpy.mean` for the word `\"transformations\"` to all other words that share:\n",
        "\n",
        "1. Same root\n",
        "2. Same suffixes\n",
        "3. Same prefixes\n",
        "\n"
      ]
    },
    {
      "cell_type": "code",
      "metadata": {
        "id": "s2-R5mle9pm9"
      },
      "source": [
        ""
      ],
      "execution_count": null,
      "outputs": []
    },
    {
      "cell_type": "markdown",
      "metadata": {
        "id": "lzsdhBSt9rCd"
      },
      "source": [
        "# Question 6A: Cosine similarity to unrelated words (3 points)\n",
        "\n",
        "Now, do the same thing as in Question 5, but compute the mean cosine similarity between the word `\"transformations\"` and all words that do not share any morphemes (no shared roots, suffixes, or prefixes) with `\"transformations\"` at all."
      ]
    },
    {
      "cell_type": "code",
      "metadata": {
        "id": "ds2SnS0o9wYC"
      },
      "source": [
        ""
      ],
      "execution_count": null,
      "outputs": []
    },
    {
      "cell_type": "markdown",
      "metadata": {
        "id": "XAhyOR3UuYxD"
      },
      "source": [
        "# Question 6B: Does sharing material influence word vector similarity? (3 points)\n",
        "\n",
        "Compare and contrast the mean similarities of the following pairs for the word `\"transformations\"`:\n",
        "\n",
        "1. Shared prefixes vs. suffixes\n",
        "2. Shared affixes vs. roots\n",
        "3. Related (share anything) vs. Unrelated (share nothing)\n",
        "\n",
        "Elaborate on what linguistic patterns you think lead to any differences in the above comparisons. If there are none, speculate as to why.\n"
      ]
    },
    {
      "cell_type": "markdown",
      "metadata": {
        "id": "wwxGH0WLuqOn"
      },
      "source": [
        "# Question 7A: Sharing more than one morpheme (8 points)\n",
        "\n",
        "Compute means for 0, 1, 2, 3, etc. shared morphemes with `\"transformations\"`"
      ]
    },
    {
      "cell_type": "code",
      "metadata": {
        "id": "58mPsAD-vzEU"
      },
      "source": [
        "# code for question 8"
      ],
      "execution_count": null,
      "outputs": []
    },
    {
      "cell_type": "markdown",
      "metadata": {
        "id": "-UL27V4-4qPV"
      },
      "source": [
        "# Question 7B: Free response\n",
        "\n",
        "What about sharing more than one morpheme? How does similarity change depending on the number of shared morphemes (in any position)? Why do you think this is the case?"
      ]
    },
    {
      "cell_type": "code",
      "metadata": {
        "id": "XGCwTARZ4jkP"
      },
      "source": [
        ""
      ],
      "execution_count": null,
      "outputs": []
    },
    {
      "cell_type": "markdown",
      "metadata": {
        "id": "6_RUHg-ju6Ps"
      },
      "source": [
        "# Bonus: 5 points\n",
        "\n",
        "## Bonus A: Code\n",
        "\n",
        "Do Question 7 but for all words in `morphemes.json`."
      ]
    },
    {
      "cell_type": "code",
      "metadata": {
        "id": "FdxcsAFNvF7E"
      },
      "source": [
        "# Bonus A: Code computing mean similarity by amount of shared morphology for all words"
      ],
      "execution_count": null,
      "outputs": []
    },
    {
      "cell_type": "markdown",
      "metadata": {
        "id": "K89oFrCCvLns"
      },
      "source": [
        "## Bonus B: Free response\n",
        "\n",
        "Describe the mean similarity patterns that you see once we look at all words in our vocabulary. Is it the same or different from the results you got in Question 7?"
      ]
    },
    {
      "cell_type": "code",
      "metadata": {
        "id": "I4AE-oQLwqrH"
      },
      "source": [
        ""
      ],
      "execution_count": null,
      "outputs": []
    },
    {
      "cell_type": "markdown",
      "metadata": {
        "id": "kdaBPTdsyYTg"
      },
      "source": [
        "# Submission (1 point)\n",
        "\n",
        "Please submit the `.ipynb` file and name it:\n",
        "\n",
        "LastName_FirstName_HW3.ipynb"
      ]
    }
  ]
}